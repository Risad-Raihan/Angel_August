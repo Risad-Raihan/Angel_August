{
 "cells": [
  {
   "cell_type": "code",
   "execution_count": 7,
   "id": "704587a8-b24a-4fe1-baea-7849ad587747",
   "metadata": {},
   "outputs": [],
   "source": [
    "import pandas as pd\n",
    "import numpy as np\n",
    "import matplotlib\n",
    "import matplotlib.pyplot as plt\n",
    "import seaborn as sns\n",
    "from datetime import date"
   ]
  },
  {
   "cell_type": "code",
   "execution_count": 9,
   "id": "542bc73d-6d49-421b-ab57-7575af6f42d3",
   "metadata": {},
   "outputs": [],
   "source": [
    "from openpyxl.styles.colors import WHITE, RGB\n",
    "\n",
    "__old_rgb_set__ = RGB.__set__\n",
    "\n",
    "\n",
    "def __rgb_set_fixed__(self, instance, value):\n",
    "    try:\n",
    "        __old_rgb_set__(self, instance, value)\n",
    "    except ValueError as e:\n",
    "        if e.args[0] == 'Colors must be aRGB hex values':\n",
    "            __old_rgb_set__(self, instance, WHITE)  # Change default color here\n",
    "\n",
    "\n",
    "RGB.__set__ = __rgb_set_fixed__"
   ]
  },
  {
   "cell_type": "code",
   "execution_count": 19,
   "id": "7d8bb156-7089-4a9c-a9d8-9dfce4136e95",
   "metadata": {},
   "outputs": [],
   "source": [
    "df_aug = pd.read_excel(\"august_sale_date.xlsx\", engine = 'openpyxl')"
   ]
  },
  {
   "cell_type": "code",
   "execution_count": 20,
   "id": "3072e7a7-af37-4b18-b5b5-35d9712dda0b",
   "metadata": {},
   "outputs": [
    {
     "data": {
      "text/html": [
       "<div>\n",
       "<style scoped>\n",
       "    .dataframe tbody tr th:only-of-type {\n",
       "        vertical-align: middle;\n",
       "    }\n",
       "\n",
       "    .dataframe tbody tr th {\n",
       "        vertical-align: top;\n",
       "    }\n",
       "\n",
       "    .dataframe thead th {\n",
       "        text-align: right;\n",
       "    }\n",
       "</style>\n",
       "<table border=\"1\" class=\"dataframe\">\n",
       "  <thead>\n",
       "    <tr style=\"text-align: right;\">\n",
       "      <th></th>\n",
       "      <th>SL</th>\n",
       "      <th>Outlet</th>\n",
       "      <th>Challan</th>\n",
       "      <th>Customer Name</th>\n",
       "      <th>Customer Code</th>\n",
       "      <th>Date</th>\n",
       "      <th>Item</th>\n",
       "      <th>Item Category</th>\n",
       "      <th>Item Sub Category</th>\n",
       "      <th>MRP</th>\n",
       "      <th>Sales Price</th>\n",
       "      <th>Total Quantity</th>\n",
       "      <th>Total Sales</th>\n",
       "      <th>Total Discount</th>\n",
       "    </tr>\n",
       "  </thead>\n",
       "  <tbody>\n",
       "    <tr>\n",
       "      <th>0</th>\n",
       "      <td>1</td>\n",
       "      <td>EcoFab Limited</td>\n",
       "      <td>POSDLV0824838411</td>\n",
       "      <td>MD. KAMAL HOSSEN '[EF5462']</td>\n",
       "      <td>AP0370000781</td>\n",
       "      <td>2024-08-31</td>\n",
       "      <td>Speed Can 250ml [15554129]</td>\n",
       "      <td>Food</td>\n",
       "      <td>Tiffin Item -2</td>\n",
       "      <td>50.0</td>\n",
       "      <td>49.0</td>\n",
       "      <td>3.0</td>\n",
       "      <td>147.0</td>\n",
       "      <td>3.0</td>\n",
       "    </tr>\n",
       "    <tr>\n",
       "      <th>1</th>\n",
       "      <td>2</td>\n",
       "      <td>Generation Next Fashions Ltd.</td>\n",
       "      <td>POSDLV0824838412</td>\n",
       "      <td>Md. Rasel '[D566-11-18']</td>\n",
       "      <td>AP0390001820</td>\n",
       "      <td>2024-08-31</td>\n",
       "      <td>Half Bowel Rice Premium [15552650]</td>\n",
       "      <td>Food</td>\n",
       "      <td>Rice</td>\n",
       "      <td>62.0</td>\n",
       "      <td>59.6</td>\n",
       "      <td>25.0</td>\n",
       "      <td>1490.0</td>\n",
       "      <td>60.0</td>\n",
       "    </tr>\n",
       "    <tr>\n",
       "      <th>2</th>\n",
       "      <td>3</td>\n",
       "      <td>Generation Next Fashions Ltd.</td>\n",
       "      <td>POSDLV0824838412</td>\n",
       "      <td>Md. Rasel '[D566-11-18']</td>\n",
       "      <td>AP0390001820</td>\n",
       "      <td>2024-08-31</td>\n",
       "      <td>Lux Velvet Soft Touch Soap 100 Gm [15552845]</td>\n",
       "      <td>Beauty and Health</td>\n",
       "      <td>Bath Soap</td>\n",
       "      <td>55.0</td>\n",
       "      <td>53.0</td>\n",
       "      <td>3.0</td>\n",
       "      <td>159.0</td>\n",
       "      <td>6.0</td>\n",
       "    </tr>\n",
       "    <tr>\n",
       "      <th>3</th>\n",
       "      <td>4</td>\n",
       "      <td>Generation Next Fashions Ltd.</td>\n",
       "      <td>POSDLV0824838412</td>\n",
       "      <td>Md. Rasel '[D566-11-18']</td>\n",
       "      <td>AP0390001820</td>\n",
       "      <td>2024-08-31</td>\n",
       "      <td>Mr.Noodles 28 Pcs [15552925]</td>\n",
       "      <td>Food</td>\n",
       "      <td>Noodles</td>\n",
       "      <td>525.0</td>\n",
       "      <td>515.0</td>\n",
       "      <td>1.0</td>\n",
       "      <td>515.0</td>\n",
       "      <td>10.0</td>\n",
       "    </tr>\n",
       "    <tr>\n",
       "      <th>4</th>\n",
       "      <td>5</td>\n",
       "      <td>Interstoff Apparels Ltd.</td>\n",
       "      <td>POSDLV0824838413</td>\n",
       "      <td>Md. Shakil Shaikh '[133793']</td>\n",
       "      <td>AP0120402707</td>\n",
       "      <td>2024-08-31</td>\n",
       "      <td>Amore Family Cookies 300 Gm [15554152]</td>\n",
       "      <td>Food</td>\n",
       "      <td>Family Pack</td>\n",
       "      <td>70.0</td>\n",
       "      <td>67.0</td>\n",
       "      <td>1.0</td>\n",
       "      <td>67.0</td>\n",
       "      <td>3.0</td>\n",
       "    </tr>\n",
       "  </tbody>\n",
       "</table>\n",
       "</div>"
      ],
      "text/plain": [
       "   SL                         Outlet           Challan  \\\n",
       "0   1                 EcoFab Limited  POSDLV0824838411   \n",
       "1   2  Generation Next Fashions Ltd.  POSDLV0824838412   \n",
       "2   3  Generation Next Fashions Ltd.  POSDLV0824838412   \n",
       "3   4  Generation Next Fashions Ltd.  POSDLV0824838412   \n",
       "4   5       Interstoff Apparels Ltd.  POSDLV0824838413   \n",
       "\n",
       "                  Customer Name Customer Code        Date  \\\n",
       "0   MD. KAMAL HOSSEN '[EF5462']  AP0370000781  2024-08-31   \n",
       "1      Md. Rasel '[D566-11-18']  AP0390001820  2024-08-31   \n",
       "2      Md. Rasel '[D566-11-18']  AP0390001820  2024-08-31   \n",
       "3      Md. Rasel '[D566-11-18']  AP0390001820  2024-08-31   \n",
       "4  Md. Shakil Shaikh '[133793']  AP0120402707  2024-08-31   \n",
       "\n",
       "                                           Item      Item Category  \\\n",
       "0                    Speed Can 250ml [15554129]               Food   \n",
       "1            Half Bowel Rice Premium [15552650]               Food   \n",
       "2  Lux Velvet Soft Touch Soap 100 Gm [15552845]  Beauty and Health   \n",
       "3                  Mr.Noodles 28 Pcs [15552925]               Food   \n",
       "4        Amore Family Cookies 300 Gm [15554152]               Food   \n",
       "\n",
       "  Item Sub Category    MRP  Sales Price  Total Quantity  Total Sales  \\\n",
       "0    Tiffin Item -2   50.0         49.0             3.0        147.0   \n",
       "1              Rice   62.0         59.6            25.0       1490.0   \n",
       "2         Bath Soap   55.0         53.0             3.0        159.0   \n",
       "3           Noodles  525.0        515.0             1.0        515.0   \n",
       "4       Family Pack   70.0         67.0             1.0         67.0   \n",
       "\n",
       "   Total Discount  \n",
       "0             3.0  \n",
       "1            60.0  \n",
       "2             6.0  \n",
       "3            10.0  \n",
       "4             3.0  "
      ]
     },
     "execution_count": 20,
     "metadata": {},
     "output_type": "execute_result"
    }
   ],
   "source": [
    "df_aug.head(5)"
   ]
  },
  {
   "cell_type": "code",
   "execution_count": 15,
   "id": "c5c29d2e-4726-4e22-ac04-3a4fb17bd63d",
   "metadata": {},
   "outputs": [],
   "source": [
    "df_angel = pd.read_excel(\"Angel List - Spetember, Credit Upload.xlsx\", engine = 'openpyxl')"
   ]
  },
  {
   "cell_type": "code",
   "execution_count": 17,
   "id": "52948e71-d574-49b5-982d-1588e496fdc8",
   "metadata": {},
   "outputs": [
    {
     "data": {
      "text/html": [
       "<div>\n",
       "<style scoped>\n",
       "    .dataframe tbody tr th:only-of-type {\n",
       "        vertical-align: middle;\n",
       "    }\n",
       "\n",
       "    .dataframe tbody tr th {\n",
       "        vertical-align: top;\n",
       "    }\n",
       "\n",
       "    .dataframe thead th {\n",
       "        text-align: right;\n",
       "    }\n",
       "</style>\n",
       "<table border=\"1\" class=\"dataframe\">\n",
       "  <thead>\n",
       "    <tr style=\"text-align: right;\">\n",
       "      <th></th>\n",
       "      <th>Customer Code</th>\n",
       "      <th>Contact Number</th>\n",
       "      <th>Outlet</th>\n",
       "      <th>Customer Name</th>\n",
       "      <th>HR Code</th>\n",
       "      <th>Gender</th>\n",
       "      <th>Joining Date</th>\n",
       "      <th>date</th>\n",
       "      <th>tenure_days</th>\n",
       "    </tr>\n",
       "  </thead>\n",
       "  <tbody>\n",
       "    <tr>\n",
       "      <th>0</th>\n",
       "      <td>AP0180000325</td>\n",
       "      <td>1927080126</td>\n",
       "      <td>Green Smart Shirts Ltd.</td>\n",
       "      <td>Onita</td>\n",
       "      <td>1730</td>\n",
       "      <td>Male</td>\n",
       "      <td>2018-05-31 00:00:00</td>\n",
       "      <td>2024-08-31</td>\n",
       "      <td>2284</td>\n",
       "    </tr>\n",
       "    <tr>\n",
       "      <th>1</th>\n",
       "      <td>AP0180000546</td>\n",
       "      <td>1736293994</td>\n",
       "      <td>Green Smart Shirts Ltd.</td>\n",
       "      <td>Shahina Khatun</td>\n",
       "      <td>2695</td>\n",
       "      <td>Male</td>\n",
       "      <td>2019-01-20 00:00:00</td>\n",
       "      <td>2024-08-31</td>\n",
       "      <td>2050</td>\n",
       "    </tr>\n",
       "    <tr>\n",
       "      <th>2</th>\n",
       "      <td>AP0180000570</td>\n",
       "      <td>1738139050</td>\n",
       "      <td>Green Smart Shirts Ltd.</td>\n",
       "      <td>Mst. Nargis Akter</td>\n",
       "      <td>2820</td>\n",
       "      <td>Male</td>\n",
       "      <td>2019-03-02 00:00:00</td>\n",
       "      <td>2024-08-31</td>\n",
       "      <td>2009</td>\n",
       "    </tr>\n",
       "    <tr>\n",
       "      <th>3</th>\n",
       "      <td>AP0180000726</td>\n",
       "      <td>1643973247</td>\n",
       "      <td>Green Smart Shirts Ltd.</td>\n",
       "      <td>Nasrin</td>\n",
       "      <td>3371</td>\n",
       "      <td>Male</td>\n",
       "      <td>2019-06-19 00:00:00</td>\n",
       "      <td>2024-08-31</td>\n",
       "      <td>1900</td>\n",
       "    </tr>\n",
       "    <tr>\n",
       "      <th>4</th>\n",
       "      <td>AP0180000790</td>\n",
       "      <td>1631834583</td>\n",
       "      <td>Green Smart Shirts Ltd.</td>\n",
       "      <td>Md. Masum Rana</td>\n",
       "      <td>3691</td>\n",
       "      <td>Male</td>\n",
       "      <td>2019-08-26 00:00:00</td>\n",
       "      <td>2024-08-31</td>\n",
       "      <td>1832</td>\n",
       "    </tr>\n",
       "  </tbody>\n",
       "</table>\n",
       "</div>"
      ],
      "text/plain": [
       "  Customer Code Contact Number                   Outlet      Customer Name  \\\n",
       "0  AP0180000325     1927080126  Green Smart Shirts Ltd.              Onita   \n",
       "1  AP0180000546     1736293994  Green Smart Shirts Ltd.     Shahina Khatun   \n",
       "2  AP0180000570     1738139050  Green Smart Shirts Ltd.  Mst. Nargis Akter   \n",
       "3  AP0180000726     1643973247  Green Smart Shirts Ltd.             Nasrin   \n",
       "4  AP0180000790     1631834583  Green Smart Shirts Ltd.     Md. Masum Rana   \n",
       "\n",
       "  HR Code Gender         Joining Date       date  tenure_days  \n",
       "0    1730   Male  2018-05-31 00:00:00 2024-08-31         2284  \n",
       "1    2695   Male  2019-01-20 00:00:00 2024-08-31         2050  \n",
       "2    2820   Male  2019-03-02 00:00:00 2024-08-31         2009  \n",
       "3    3371   Male  2019-06-19 00:00:00 2024-08-31         1900  \n",
       "4    3691   Male  2019-08-26 00:00:00 2024-08-31         1832  "
      ]
     },
     "execution_count": 17,
     "metadata": {},
     "output_type": "execute_result"
    }
   ],
   "source": [
    "df_angel.head(5)"
   ]
  },
  {
   "cell_type": "code",
   "execution_count": 23,
   "id": "6e0a3bf4-d351-4d13-aed2-9edde564b80e",
   "metadata": {},
   "outputs": [
    {
     "name": "stdout",
     "output_type": "stream",
     "text": [
      "<class 'pandas.core.frame.DataFrame'>\n",
      "RangeIndex: 120707 entries, 0 to 120706\n",
      "Data columns (total 14 columns):\n",
      " #   Column             Non-Null Count   Dtype  \n",
      "---  ------             --------------   -----  \n",
      " 0   SL                 120707 non-null  int64  \n",
      " 1   Outlet             120707 non-null  object \n",
      " 2   Challan            120707 non-null  object \n",
      " 3   Customer Name      120707 non-null  object \n",
      " 4   Customer Code      120707 non-null  object \n",
      " 5   Date               120707 non-null  object \n",
      " 6   Item               120707 non-null  object \n",
      " 7   Item Category      120707 non-null  object \n",
      " 8   Item Sub Category  120707 non-null  object \n",
      " 9   MRP                120707 non-null  float64\n",
      " 10  Sales Price        120707 non-null  float64\n",
      " 11  Total Quantity     120707 non-null  float64\n",
      " 12  Total Sales        120707 non-null  float64\n",
      " 13  Total Discount     120707 non-null  float64\n",
      "dtypes: float64(5), int64(1), object(8)\n",
      "memory usage: 12.9+ MB\n"
     ]
    }
   ],
   "source": [
    "df_aug.info()"
   ]
  },
  {
   "cell_type": "code",
   "execution_count": 25,
   "id": "f220f4e8-d2fb-4ff3-8911-2f4df5e3535e",
   "metadata": {},
   "outputs": [
    {
     "name": "stdout",
     "output_type": "stream",
     "text": [
      "<class 'pandas.core.frame.DataFrame'>\n",
      "RangeIndex: 5051 entries, 0 to 5050\n",
      "Data columns (total 9 columns):\n",
      " #   Column          Non-Null Count  Dtype         \n",
      "---  ------          --------------  -----         \n",
      " 0   Customer Code   5051 non-null   object        \n",
      " 1   Contact Number  4881 non-null   object        \n",
      " 2   Outlet          5051 non-null   object        \n",
      " 3   Customer Name   5051 non-null   object        \n",
      " 4   HR Code         5051 non-null   object        \n",
      " 5   Gender          3768 non-null   object        \n",
      " 6   Joining Date    5051 non-null   object        \n",
      " 7   date            5051 non-null   datetime64[ns]\n",
      " 8   tenure_days     5051 non-null   int64         \n",
      "dtypes: datetime64[ns](1), int64(1), object(7)\n",
      "memory usage: 355.3+ KB\n"
     ]
    }
   ],
   "source": [
    "df_angel.info()"
   ]
  },
  {
   "cell_type": "code",
   "execution_count": 27,
   "id": "0250f036-1b53-4997-8740-aca340486906",
   "metadata": {},
   "outputs": [],
   "source": [
    "# Merge the two dataframes on 'Customer Code'\n",
    "merged_df = df_angel.merge(df_aug[['Customer Code', 'Date']], on='Customer Code', how='left')"
   ]
  },
  {
   "cell_type": "code",
   "execution_count": 33,
   "id": "00dafb29-589e-4d1a-bca6-7df727e65c1b",
   "metadata": {},
   "outputs": [],
   "source": [
    "# Convert 'Date' column to datetime in df_aug\n",
    "df_aug['Date'] = pd.to_datetime(df_aug['Date'], errors='coerce')  # Using 'coerce' to handle any parsing errors"
   ]
  },
  {
   "cell_type": "code",
   "execution_count": 35,
   "id": "6341e4c6-e183-4a3b-8351-99cdb1b394c2",
   "metadata": {},
   "outputs": [],
   "source": [
    "# Merge the two dataframes on 'Customer Code'\n",
    "merged_df = df_angel.merge(df_aug[['Customer Code', 'Date']], on='Customer Code', how='left')\n",
    "\n",
    "# Define a function to categorize the date into 'First 10 days' or 'Last 10 days'\n",
    "def categorize_date(date):\n",
    "    if pd.isna(date):\n",
    "        return None\n",
    "    elif date >= pd.Timestamp('2024-08-01') and date <= pd.Timestamp('2024-08-10'):\n",
    "        return 'First 10 days'\n",
    "    elif date >= pd.Timestamp('2024-08-11') and date <= pd.Timestamp('2024-08-20'):\n",
    "        return 'Last 10 days'\n",
    "    else:\n",
    "        return None"
   ]
  },
  {
   "cell_type": "code",
   "execution_count": 37,
   "id": "39f35d5e-ddcd-4523-a9ea-a1a0f5b18b23",
   "metadata": {},
   "outputs": [],
   "source": [
    "# Apply the function to create the new 'State' column\n",
    "merged_df['State'] = merged_df['Date'].apply(categorize_date)\n"
   ]
  },
  {
   "cell_type": "code",
   "execution_count": 39,
   "id": "a02113ba-a626-4a26-9800-b7c02026f200",
   "metadata": {},
   "outputs": [
    {
     "data": {
      "text/html": [
       "<div>\n",
       "<style scoped>\n",
       "    .dataframe tbody tr th:only-of-type {\n",
       "        vertical-align: middle;\n",
       "    }\n",
       "\n",
       "    .dataframe tbody tr th {\n",
       "        vertical-align: top;\n",
       "    }\n",
       "\n",
       "    .dataframe thead th {\n",
       "        text-align: right;\n",
       "    }\n",
       "</style>\n",
       "<table border=\"1\" class=\"dataframe\">\n",
       "  <thead>\n",
       "    <tr style=\"text-align: right;\">\n",
       "      <th></th>\n",
       "      <th>Customer Code</th>\n",
       "      <th>Contact Number</th>\n",
       "      <th>Outlet</th>\n",
       "      <th>Customer Name</th>\n",
       "      <th>HR Code</th>\n",
       "      <th>Gender</th>\n",
       "      <th>Joining Date</th>\n",
       "      <th>date</th>\n",
       "      <th>tenure_days</th>\n",
       "      <th>Date</th>\n",
       "      <th>State</th>\n",
       "    </tr>\n",
       "  </thead>\n",
       "  <tbody>\n",
       "    <tr>\n",
       "      <th>0</th>\n",
       "      <td>AP0180000325</td>\n",
       "      <td>1927080126</td>\n",
       "      <td>Green Smart Shirts Ltd.</td>\n",
       "      <td>Onita</td>\n",
       "      <td>1730</td>\n",
       "      <td>Male</td>\n",
       "      <td>2018-05-31 00:00:00</td>\n",
       "      <td>2024-08-31</td>\n",
       "      <td>2284</td>\n",
       "      <td>2024-08-07</td>\n",
       "      <td>First 10 days</td>\n",
       "    </tr>\n",
       "    <tr>\n",
       "      <th>1</th>\n",
       "      <td>AP0180000325</td>\n",
       "      <td>1927080126</td>\n",
       "      <td>Green Smart Shirts Ltd.</td>\n",
       "      <td>Onita</td>\n",
       "      <td>1730</td>\n",
       "      <td>Male</td>\n",
       "      <td>2018-05-31 00:00:00</td>\n",
       "      <td>2024-08-31</td>\n",
       "      <td>2284</td>\n",
       "      <td>2024-08-07</td>\n",
       "      <td>First 10 days</td>\n",
       "    </tr>\n",
       "    <tr>\n",
       "      <th>2</th>\n",
       "      <td>AP0180000325</td>\n",
       "      <td>1927080126</td>\n",
       "      <td>Green Smart Shirts Ltd.</td>\n",
       "      <td>Onita</td>\n",
       "      <td>1730</td>\n",
       "      <td>Male</td>\n",
       "      <td>2018-05-31 00:00:00</td>\n",
       "      <td>2024-08-31</td>\n",
       "      <td>2284</td>\n",
       "      <td>2024-08-07</td>\n",
       "      <td>First 10 days</td>\n",
       "    </tr>\n",
       "    <tr>\n",
       "      <th>3</th>\n",
       "      <td>AP0180000325</td>\n",
       "      <td>1927080126</td>\n",
       "      <td>Green Smart Shirts Ltd.</td>\n",
       "      <td>Onita</td>\n",
       "      <td>1730</td>\n",
       "      <td>Male</td>\n",
       "      <td>2018-05-31 00:00:00</td>\n",
       "      <td>2024-08-31</td>\n",
       "      <td>2284</td>\n",
       "      <td>2024-08-07</td>\n",
       "      <td>First 10 days</td>\n",
       "    </tr>\n",
       "    <tr>\n",
       "      <th>4</th>\n",
       "      <td>AP0180000325</td>\n",
       "      <td>1927080126</td>\n",
       "      <td>Green Smart Shirts Ltd.</td>\n",
       "      <td>Onita</td>\n",
       "      <td>1730</td>\n",
       "      <td>Male</td>\n",
       "      <td>2018-05-31 00:00:00</td>\n",
       "      <td>2024-08-31</td>\n",
       "      <td>2284</td>\n",
       "      <td>2024-08-07</td>\n",
       "      <td>First 10 days</td>\n",
       "    </tr>\n",
       "  </tbody>\n",
       "</table>\n",
       "</div>"
      ],
      "text/plain": [
       "  Customer Code Contact Number                   Outlet Customer Name HR Code  \\\n",
       "0  AP0180000325     1927080126  Green Smart Shirts Ltd.         Onita    1730   \n",
       "1  AP0180000325     1927080126  Green Smart Shirts Ltd.         Onita    1730   \n",
       "2  AP0180000325     1927080126  Green Smart Shirts Ltd.         Onita    1730   \n",
       "3  AP0180000325     1927080126  Green Smart Shirts Ltd.         Onita    1730   \n",
       "4  AP0180000325     1927080126  Green Smart Shirts Ltd.         Onita    1730   \n",
       "\n",
       "  Gender         Joining Date       date  tenure_days       Date  \\\n",
       "0   Male  2018-05-31 00:00:00 2024-08-31         2284 2024-08-07   \n",
       "1   Male  2018-05-31 00:00:00 2024-08-31         2284 2024-08-07   \n",
       "2   Male  2018-05-31 00:00:00 2024-08-31         2284 2024-08-07   \n",
       "3   Male  2018-05-31 00:00:00 2024-08-31         2284 2024-08-07   \n",
       "4   Male  2018-05-31 00:00:00 2024-08-31         2284 2024-08-07   \n",
       "\n",
       "           State  \n",
       "0  First 10 days  \n",
       "1  First 10 days  \n",
       "2  First 10 days  \n",
       "3  First 10 days  \n",
       "4  First 10 days  "
      ]
     },
     "execution_count": 39,
     "metadata": {},
     "output_type": "execute_result"
    }
   ],
   "source": [
    "merged_df.head(5)\n"
   ]
  },
  {
   "cell_type": "code",
   "execution_count": 41,
   "id": "93b6e3bd-033a-4692-9ae7-eaa93b0a52e7",
   "metadata": {},
   "outputs": [
    {
     "name": "stdout",
     "output_type": "stream",
     "text": [
      "Data exported to merged_df.xlsx successfully!\n"
     ]
    }
   ],
   "source": [
    "# Export the merged DataFrame to an Excel file\n",
    "merged_df.to_excel('merged_df.xlsx', index=False)\n",
    "\n",
    "print(\"Data exported to merged_df.xlsx successfully!\")\n"
   ]
  },
  {
   "cell_type": "code",
   "execution_count": 43,
   "id": "33bbc892-b6ff-4f1e-9106-059584a16a8b",
   "metadata": {},
   "outputs": [
    {
     "name": "stdout",
     "output_type": "stream",
     "text": [
      "State\n",
      "Last 10 days     24516\n",
      "First 10 days    12724\n",
      "Name: count, dtype: int64\n"
     ]
    }
   ],
   "source": [
    "state_counts = merged_df['State'].value_counts()\n",
    "\n",
    "# Display the counts\n",
    "print(state_counts)"
   ]
  },
  {
   "cell_type": "code",
   "execution_count": 47,
   "id": "5457407d-2e4a-4c96-a6f4-f6469d4931dc",
   "metadata": {},
   "outputs": [
    {
     "name": "stdout",
     "output_type": "stream",
     "text": [
      "<class 'pandas.core.frame.DataFrame'>\n",
      "RangeIndex: 48401 entries, 0 to 48400\n",
      "Data columns (total 11 columns):\n",
      " #   Column          Non-Null Count  Dtype         \n",
      "---  ------          --------------  -----         \n",
      " 0   Customer Code   48401 non-null  object        \n",
      " 1   Contact Number  46923 non-null  object        \n",
      " 2   Outlet          48401 non-null  object        \n",
      " 3   Customer Name   48401 non-null  object        \n",
      " 4   HR Code         48401 non-null  object        \n",
      " 5   Gender          36146 non-null  object        \n",
      " 6   Joining Date    48401 non-null  object        \n",
      " 7   date            48401 non-null  datetime64[ns]\n",
      " 8   tenure_days     48401 non-null  int64         \n",
      " 9   Date            47923 non-null  datetime64[ns]\n",
      " 10  State           37240 non-null  object        \n",
      "dtypes: datetime64[ns](2), int64(1), object(8)\n",
      "memory usage: 4.1+ MB\n"
     ]
    }
   ],
   "source": [
    "merged_df.info()"
   ]
  },
  {
   "cell_type": "code",
   "execution_count": 57,
   "id": "552ffe1e-2f33-4780-aa27-6664352c799c",
   "metadata": {},
   "outputs": [],
   "source": [
    "import pandas as pd\n",
    "\n",
    "# Ensure 'Date' is in datetime format in df_aug\n",
    "df_aug['Date'] = pd.to_datetime(df_aug['Date'], errors='coerce')\n",
    "\n",
    "# Drop duplicates based on 'Customer Code' and keeping the earliest date\n",
    "df_aug_unique = df_aug.sort_values('Date').drop_duplicates('Customer Code', keep='first')\n",
    "\n",
    "# Merge with df_angel\n",
    "merged_df = df_angel.merge(df_aug_unique[['Customer Code', 'Date']], on='Customer Code', how='left')\n",
    "\n",
    "# Define the categorization function\n",
    "def categorize_date(date):\n",
    "    if pd.isna(date):\n",
    "        return None\n",
    "    elif pd.Timestamp('2024-08-01') <= date <= pd.Timestamp('2024-08-10'):\n",
    "        return 'First 10 days'\n",
    "    elif pd.Timestamp('2024-08-11') <= date <= pd.Timestamp('2024-08-31'):\n",
    "        return 'Last 10 days'\n",
    "    else:\n",
    "        return None\n",
    "\n",
    "# Apply the categorization\n",
    "merged_df['State'] = merged_df['Date'].apply(categorize_date)\n"
   ]
  },
  {
   "cell_type": "code",
   "execution_count": 59,
   "id": "039ed13c-61f2-487e-98ac-e09a2c3f4b3c",
   "metadata": {},
   "outputs": [
    {
     "name": "stdout",
     "output_type": "stream",
     "text": [
      "<class 'pandas.core.frame.DataFrame'>\n",
      "RangeIndex: 5051 entries, 0 to 5050\n",
      "Data columns (total 11 columns):\n",
      " #   Column          Non-Null Count  Dtype         \n",
      "---  ------          --------------  -----         \n",
      " 0   Customer Code   5051 non-null   object        \n",
      " 1   Contact Number  4881 non-null   object        \n",
      " 2   Outlet          5051 non-null   object        \n",
      " 3   Customer Name   5051 non-null   object        \n",
      " 4   HR Code         5051 non-null   object        \n",
      " 5   Gender          3768 non-null   object        \n",
      " 6   Joining Date    5051 non-null   object        \n",
      " 7   date            5051 non-null   datetime64[ns]\n",
      " 8   tenure_days     5051 non-null   int64         \n",
      " 9   Date            4573 non-null   datetime64[ns]\n",
      " 10  State           4573 non-null   object        \n",
      "dtypes: datetime64[ns](2), int64(1), object(8)\n",
      "memory usage: 434.2+ KB\n"
     ]
    }
   ],
   "source": [
    "merged_df.info()"
   ]
  },
  {
   "cell_type": "code",
   "execution_count": 61,
   "id": "2c68532a-9d98-415c-9905-fe1f69b48a06",
   "metadata": {},
   "outputs": [
    {
     "name": "stdout",
     "output_type": "stream",
     "text": [
      "State\n",
      "Last 10 days     2954\n",
      "First 10 days    1619\n",
      "Name: count, dtype: int64\n"
     ]
    }
   ],
   "source": [
    "state_counts = merged_df['State'].value_counts()\n",
    "\n",
    "# Display the counts\n",
    "print(state_counts)"
   ]
  },
  {
   "cell_type": "code",
   "execution_count": 65,
   "id": "b370d04d-1b37-4568-a078-00b28dc64656",
   "metadata": {},
   "outputs": [
    {
     "name": "stdout",
     "output_type": "stream",
     "text": [
      "Data exported to angel_merged_df.xlsx successfully!\n"
     ]
    }
   ],
   "source": [
    "# Export the merged DataFrame to an Excel file\n",
    "merged_df.to_excel('angel_merged_df_2.xlsx', index=False)\n",
    "\n",
    "print(\"Data exported to angel_merged_df.xlsx successfully!\")\n"
   ]
  },
  {
   "cell_type": "code",
   "execution_count": null,
   "id": "13a53b61-b6b8-48d6-ad1d-70f7464c7533",
   "metadata": {},
   "outputs": [],
   "source": []
  }
 ],
 "metadata": {
  "kernelspec": {
   "display_name": "Python 3 (ipykernel)",
   "language": "python",
   "name": "python3"
  },
  "language_info": {
   "codemirror_mode": {
    "name": "ipython",
    "version": 3
   },
   "file_extension": ".py",
   "mimetype": "text/x-python",
   "name": "python",
   "nbconvert_exporter": "python",
   "pygments_lexer": "ipython3",
   "version": "3.12.4"
  }
 },
 "nbformat": 4,
 "nbformat_minor": 5
}
